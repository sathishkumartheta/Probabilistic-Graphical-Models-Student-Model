{
 "cells": [
  {
   "cell_type": "markdown",
   "id": "a65f76db-402f-4256-847b-edf4a4d52eab",
   "metadata": {},
   "source": [
    "# Student model with PGMPY"
   ]
  },
  {
   "cell_type": "markdown",
   "id": "af471d59-9118-4c73-ae28-bcd7656bc05a",
   "metadata": {},
   "source": [
    "<p>Pgmpy is a pure python implementation for Bayesian Networks with a focus on modularity and extensibility [1].\n",
    "This notebook is an implementation of the student bayesian network from the book \"Probabilistic Graphical Model- principles and techniques\" authored by Daphne Koller and Nir Friedman [2]. The purpose of this notebook is to provide a pgmpy implementation of the student network to aid in the process of learning with the aforementioned book.</p> "
   ]
  },
  {
   "cell_type": "markdown",
   "id": "274e778c-83d4-4d00-9065-e34c9fe823a1",
   "metadata": {},
   "source": [
    "## Description of the Student Model"
   ]
  },
  {
   "cell_type": "markdown",
   "id": "3893ae5f-f907-43d1-b9f3-bae90dc23698",
   "metadata": {},
   "source": [
    "### Description"
   ]
  },
  {
   "cell_type": "markdown",
   "id": "f03daed7-5e15-49f0-9626-4a768168257b",
   "metadata": {},
   "source": [
    "The student model is a toy bayesian network used for introducing concepts of Continuous Probability Distributions (CPDs), marginal independence, conditional independence, causal reasoning or prediction, evidence reasoning or explanation  and intercausal reasoning or or explaining away. The tables given in the figure below are all CPDs."
   ]
  },
  {
   "cell_type": "markdown",
   "id": "2417372b-edc0-4e1d-89f8-f60009396870",
   "metadata": {},
   "source": [
    "\n",
    "<img src=\"student bayesian network.png\" alt=\"fishy\" class=\"bg-primary mb-1\" width=\"600px\">\n",
    "\n",
    "Figure: Student Bayesian Network [Source: Probabilistic Graphical Models book [2] page:53]"
   ]
  },
  {
   "cell_type": "markdown",
   "id": "f76ceeec-f3a9-4317-94f5-c916796220ba",
   "metadata": {},
   "source": [
    "### Creating the Bayesian network using pgmpy"
   ]
  },
  {
   "cell_type": "code",
   "execution_count": 1,
   "id": "1fc4da26-2ddf-4a61-b257-a6f151beffa9",
   "metadata": {},
   "outputs": [],
   "source": [
    "from pgmpy.models import BayesianNetwork ## Make sure pgmpy is installed. If not installed,use \"pip install pgmpy\" in your command prompt"
   ]
  },
  {
   "cell_type": "code",
   "execution_count": 2,
   "id": "3c850155-9f8a-4eb7-b44b-8f384a679e95",
   "metadata": {},
   "outputs": [],
   "source": [
    "Student_Model=BayesianNetwork(([(\"Difficulty\", \"Grade\"), (\"Intelligence\", \"Grade\"), (\"Intelligence\", \"SAT\"),(\"Grade\",\"Letter\")]))\n",
    "# Note that to create a Bayesian network using pgmpy, we need to specify the list of edges in the network as a tuple"
   ]
  },
  {
   "cell_type": "code",
   "execution_count": 3,
   "id": "571325e9-a07d-4a51-b1e5-8310c9cc2b8b",
   "metadata": {},
   "outputs": [
    {
     "data": {
      "text/plain": [
       "<Axes:>"
      ]
     },
     "execution_count": 3,
     "metadata": {},
     "output_type": "execute_result"
    },
    {
     "data": {
      "image/png": "[encoded data removed]",
      "text/plain": [
       "<Figure size 197.56x204.891 with 1 Axes>"
      ]
     },
     "metadata": {},
     "output_type": "display_data"
    }
   ],
   "source": [
    "Student_Model.to_daft(node_pos='kamada_kawai').render()"
   ]
  },
  {
   "cell_type": "markdown",
   "id": "c9d867ce-7de5-47fb-bc2c-dfb65cc99873",
   "metadata": {},
   "source": [
    "### Adding CPDs to the student model"
   ]
  },
  {
   "cell_type": "code",
   "execution_count": 4,
   "id": "14d266a6-0301-489f-bd5e-dbc064350fab",
   "metadata": {},
   "outputs": [],
   "source": [
    "from pgmpy.factors.discrete import TabularCPD"
   ]
  },
  {
   "cell_type": "code",
   "execution_count": 5,
   "id": "07dcfcd7-2be2-4a7f-8fbf-b53c8ea589bb",
   "metadata": {},
   "outputs": [
    {
     "name": "stdout",
     "output_type": "stream",
     "text": [
      "+-----------------+-----+\n",
      "| Intelligence(0) | 0.7 |\n",
      "+-----------------+-----+\n",
      "| Intelligence(1) | 0.3 |\n",
      "+-----------------+-----+\n"
     ]
    }
   ],
   "source": [
    "CPD_Intelligence=TabularCPD(variable=\"Intelligence\", variable_card=2, values=[[0.7],[0.3]], state_names={'Intelligence':['0','1'] })\n",
    "print(CPD_Intelligence)"
   ]
  },
  {
   "cell_type": "code",
   "execution_count": 6,
   "id": "f94ad902-0451-4ade-9257-3b73f8e84b69",
   "metadata": {},
   "outputs": [
    {
     "name": "stdout",
     "output_type": "stream",
     "text": [
      "+---------------+-----+\n",
      "| Difficulty(0) | 0.6 |\n",
      "+---------------+-----+\n",
      "| Difficulty(1) | 0.4 |\n",
      "+---------------+-----+\n"
     ]
    }
   ],
   "source": [
    "CPD_Difficulty=TabularCPD(variable=\"Difficulty\", variable_card=2, values=[[0.6],[0.4]],state_names={'Difficulty':['0','1'] })\n",
    "print(CPD_Difficulty)"
   ]
  },
  {
   "cell_type": "code",
   "execution_count": 7,
   "id": "f50f2ab5-aec4-4e91-b619-d4c84539e550",
   "metadata": {},
   "outputs": [
    {
     "name": "stdout",
     "output_type": "stream",
     "text": [
      "+--------------+-----------------+-----------------+-----------------+-----------------+\n",
      "| Intelligence | Intelligence(0) | Intelligence(0) | Intelligence(1) | Intelligence(1) |\n",
      "+--------------+-----------------+-----------------+-----------------+-----------------+\n",
      "| Difficulty   | Difficulty(0)   | Difficulty(1)   | Difficulty(0)   | Difficulty(1)   |\n",
      "+--------------+-----------------+-----------------+-----------------+-----------------+\n",
      "| Grade(1)     | 0.3             | 0.05            | 0.9             | 0.5             |\n",
      "+--------------+-----------------+-----------------+-----------------+-----------------+\n",
      "| Grade(2)     | 0.4             | 0.25            | 0.08            | 0.3             |\n",
      "+--------------+-----------------+-----------------+-----------------+-----------------+\n",
      "| Grade(3)     | 0.3             | 0.7             | 0.02            | 0.2             |\n",
      "+--------------+-----------------+-----------------+-----------------+-----------------+\n"
     ]
    }
   ],
   "source": [
    "CPD_Grade=TabularCPD(variable=\"Grade\", variable_card=3, values=[[0.3,0.05,0.9,0.5],[0.4,0.25,0.08,0.3],[0.3,0.7,0.02,0.2]], \n",
    "                     evidence=['Intelligence','Difficulty'], evidence_card=[2,2], state_names={'Grade':['1','2','3'],\n",
    "                                                                                               'Intelligence':['0','1'],\n",
    "                                                                                               'Difficulty':['0','1'] })\n",
    "print(CPD_Grade)"
   ]
  },
  {
   "cell_type": "code",
   "execution_count": 8,
   "id": "3325c583-2706-45a1-98d8-0e56200672c0",
   "metadata": {},
   "outputs": [
    {
     "name": "stdout",
     "output_type": "stream",
     "text": [
      "+-----------+----------+----------+----------+\n",
      "| Grade     | Grade(1) | Grade(2) | Grade(3) |\n",
      "+-----------+----------+----------+----------+\n",
      "| Letter(0) | 0.1      | 0.4      | 0.99     |\n",
      "+-----------+----------+----------+----------+\n",
      "| Letter(1) | 0.9      | 0.6      | 0.01     |\n",
      "+-----------+----------+----------+----------+\n"
     ]
    }
   ],
   "source": [
    "CPD_Letter=TabularCPD(variable=\"Letter\", variable_card=2,values=[[0.1,0.4,0.99],[0.9,0.6,0.01]], evidence=['Grade'],evidence_card=[3],\n",
    "                     state_names={'Letter': ['0','1'], 'Grade':['1','2','3'],'Intelligence':['0','1'],'Difficulty':['0','1'] })\n",
    "print(CPD_Letter)"
   ]
  },
  {
   "cell_type": "code",
   "execution_count": 9,
   "id": "b8c974bb-2208-4c3e-a5da-070f049ac505",
   "metadata": {
    "tags": []
   },
   "outputs": [
    {
     "name": "stdout",
     "output_type": "stream",
     "text": [
      "+--------------+-----------------+-----------------+\n",
      "| Intelligence | Intelligence(0) | Intelligence(1) |\n",
      "+--------------+-----------------+-----------------+\n",
      "| SAT(0)       | 0.95            | 0.2             |\n",
      "+--------------+-----------------+-----------------+\n",
      "| SAT(1)       | 0.05            | 0.8             |\n",
      "+--------------+-----------------+-----------------+\n"
     ]
    }
   ],
   "source": [
    "CPD_SAT=TabularCPD(variable=\"SAT\",variable_card=2,values=[[0.95,0.2],[0.05,0.8]],evidence=[\"Intelligence\"],evidence_card=[2],\n",
    "                   state_names={'SAT':['0','1'],'Intelligence':['0','1']})\n",
    "print(CPD_SAT)"
   ]
  },
  {
   "cell_type": "code",
   "execution_count": 10,
   "id": "8b81106f-1ad4-4ef6-9fd4-2ddd17d4465e",
   "metadata": {},
   "outputs": [
    {
     "data": {
      "text/plain": [
       "True"
      ]
     },
     "execution_count": 10,
     "metadata": {},
     "output_type": "execute_result"
    }
   ],
   "source": [
    "Student_Model.add_cpds(CPD_Difficulty, CPD_Intelligence, CPD_Grade, CPD_Letter, CPD_SAT)\n",
    "Student_Model.check_model()"
   ]
  },
  {
   "cell_type": "code",
   "execution_count": 11,
   "id": "23befc3c-2f51-44f3-a5d0-f314fa4fa6e5",
   "metadata": {
    "tags": []
   },
   "outputs": [],
   "source": [
    "# And with that we have defined and described the entire Student Model"
   ]
  },
  {
   "cell_type": "markdown",
   "id": "d16ff9cf-c54b-46c3-a292-6b07f4c4ec93",
   "metadata": {},
   "source": [
    "## Reasoning Patterns"
   ]
  },
  {
   "cell_type": "markdown",
   "id": "87a90015-8273-4cb5-af2b-8edb76c84f20",
   "metadata": {},
   "source": [
    "### Causal Reasoning or Prediction"
   ]
  },
  {
   "cell_type": "code",
   "execution_count": 12,
   "id": "2ac9409f-a87c-41b0-84d5-0508ecf7bc6a",
   "metadata": {},
   "outputs": [],
   "source": [
    "# Consider a student George. We would like to ask a few things about George"
   ]
  },
  {
   "cell_type": "markdown",
   "id": "f0a0de59-7ec8-485a-af27-4715b26802c1",
   "metadata": {},
   "source": [
    "1) Whats the probability that George gets a good recommendation letter\n",
    "\n",
    "\n",
    "\\begin{align}\n",
    "P_{\\mathcal{B}^{student}}(l^{1})\n",
    "\\end{align}\n"
   ]
  },
  {
   "cell_type": "code",
   "execution_count": 13,
   "id": "26d7d84d-b978-4b2c-af24-c1940f381e5a",
   "metadata": {},
   "outputs": [],
   "source": [
    "from pgmpy.inference import VariableElimination"
   ]
  },
  {
   "cell_type": "code",
   "execution_count": 14,
   "id": "0fb8b9d7-06ac-416f-9427-b795efa788f1",
   "metadata": {},
   "outputs": [],
   "source": [
    "inference_object = VariableElimination(Student_Model)"
   ]
  },
  {
   "cell_type": "code",
   "execution_count": 15,
   "id": "f50f1399-98b4-4cc1-b832-cc9ffb980519",
   "metadata": {},
   "outputs": [],
   "source": [
    "# Now we can query the inference object"
   ]
  },
  {
   "cell_type": "code",
   "execution_count": 16,
   "id": "ce1e1518-be32-46fb-b0e2-d9219b483ce0",
   "metadata": {},
   "outputs": [
    {
     "name": "stdout",
     "output_type": "stream",
     "text": [
      "+-----------+---------------+\n",
      "| Letter    |   phi(Letter) |\n",
      "+===========+===============+\n",
      "| Letter(0) |        0.4977 |\n",
      "+-----------+---------------+\n",
      "| Letter(1) |        0.5023 |\n",
      "+-----------+---------------+\n"
     ]
    }
   ],
   "source": [
    "print(inference_object.query(variables={\"Letter\":1}))"
   ]
  },
  {
   "cell_type": "markdown",
   "id": "a11caab6-73e4-41d1-8968-d62f37f759c6",
   "metadata": {},
   "source": [
    "2) Whats the probability that George gets a good recommendation letter given he is not so intelligent $ i^{0} $\n",
    "\n",
    "\n",
    "\\begin{align}\n",
    "P_{\\mathcal{B}^{student}}(\\frac{l^{1}}{i^{0}})\n",
    "\\end{align}"
   ]
  },
  {
   "cell_type": "code",
   "execution_count": 17,
   "id": "622470ea-15b6-404e-9f7b-7e74ea34d8f5",
   "metadata": {},
   "outputs": [
    {
     "name": "stdout",
     "output_type": "stream",
     "text": [
      "+-----------+---------------+\n",
      "| Letter    |   phi(Letter) |\n",
      "+===========+===============+\n",
      "| Letter(0) |        0.6114 |\n",
      "+-----------+---------------+\n",
      "| Letter(1) |        0.3886 |\n",
      "+-----------+---------------+\n"
     ]
    }
   ],
   "source": [
    "print(inference_object.query(variables={\"Letter\":\"1\"},evidence={\"Intelligence\":\"0\"}))"
   ]
  },
  {
   "cell_type": "markdown",
   "id": "124d56bd-47d0-4ed2-a778-b3bd1b757593",
   "metadata": {},
   "source": [
    "3) Whats the probability that George gets a good recommendation letter given he is not so intelligent $ i^{0} $ and the class is not so difficult $ d^{0} $\n",
    "\n",
    "\\begin{align}\n",
    "P_{\\mathcal{B}^{student}}(\\frac{l^{1}}{i^{0},d^{0}})\n",
    "\\end{align}"
   ]
  },
  {
   "cell_type": "code",
   "execution_count": 18,
   "id": "409d7a15-3797-4b4d-9379-e0d1bc0a386d",
   "metadata": {},
   "outputs": [
    {
     "name": "stdout",
     "output_type": "stream",
     "text": [
      "+-----------+---------------+\n",
      "| Letter    |   phi(Letter) |\n",
      "+===========+===============+\n",
      "| Letter(0) |        0.4870 |\n",
      "+-----------+---------------+\n",
      "| Letter(1) |        0.5130 |\n",
      "+-----------+---------------+\n"
     ]
    }
   ],
   "source": [
    "print(inference_object.query(variables={\"Letter\":\"1\"},evidence={\"Intelligence\":\"0\", \"Difficulty\":\"0\"}))"
   ]
  },
  {
   "cell_type": "markdown",
   "id": "f308495f-cf0f-45ae-ba8b-71e0ebf95c87",
   "metadata": {},
   "source": [
    " ### Evidential Reasoning or explanation"
   ]
  },
  {
   "cell_type": "markdown",
   "id": "57487e71-8104-4bc5-b01d-f8f3fe4420e5",
   "metadata": {},
   "source": [
    "1) Whats the probability that George has good intelligence given that he has got grade $ g^3 $\n",
    "\n",
    "\\begin{align}\n",
    "P_{\\mathcal{B}^{student}}(\\frac{i^{1}}{g^{3}})\n",
    "\\end{align}"
   ]
  },
  {
   "cell_type": "code",
   "execution_count": 19,
   "id": "98258733-cec7-4645-85fe-a5be6ef44136",
   "metadata": {},
   "outputs": [
    {
     "name": "stdout",
     "output_type": "stream",
     "text": [
      "+-----------------+---------------------+\n",
      "| Intelligence    |   phi(Intelligence) |\n",
      "+=================+=====================+\n",
      "| Intelligence(0) |              0.9211 |\n",
      "+-----------------+---------------------+\n",
      "| Intelligence(1) |              0.0789 |\n",
      "+-----------------+---------------------+\n"
     ]
    }
   ],
   "source": [
    "print(inference_object.query(variables={\"Intelligence\":\"1\"},evidence={\"Grade\":\"3\"}))"
   ]
  },
  {
   "cell_type": "markdown",
   "id": "f80faefa-c69a-4b36-9189-e6077a5a882a",
   "metadata": {},
   "source": [
    "2) Whats the probability that class has difficulty $ d^{1} $ given that he has got grade $ g^3 $\n",
    "\n",
    "\\begin{align}\n",
    "P_{\\mathcal{B}^{student}}(\\frac{d^{1}}{g^{3}})\n",
    "\\end{align}"
   ]
  },
  {
   "cell_type": "code",
   "execution_count": 20,
   "id": "1f555419-d7ad-4007-a893-7ac62493a480",
   "metadata": {},
   "outputs": [
    {
     "name": "stdout",
     "output_type": "stream",
     "text": [
      "+---------------+-------------------+\n",
      "| Difficulty    |   phi(Difficulty) |\n",
      "+===============+===================+\n",
      "| Difficulty(0) |            0.3707 |\n",
      "+---------------+-------------------+\n",
      "| Difficulty(1) |            0.6293 |\n",
      "+---------------+-------------------+\n"
     ]
    }
   ],
   "source": [
    "print(inference_object.query(variables={\"Difficulty\":\"1\"},evidence={\"Grade\":\"3\"}))"
   ]
  },
  {
   "cell_type": "markdown",
   "id": "14d1efa5-1d65-4514-908e-8c3ee0d6442d",
   "metadata": {},
   "source": [
    "3) Whats the probability that class has Intelligence $ i^{1} $ given that he has got letter $ l^0 $\n",
    "\n",
    "\\begin{align}\n",
    "P_{\\mathcal{B}^{student}}(\\frac{i^{1}}{l^{0}})\n",
    "\\end{align}"
   ]
  },
  {
   "cell_type": "code",
   "execution_count": 21,
   "id": "67e2196f-7b30-44da-aade-0607efa8616e",
   "metadata": {},
   "outputs": [
    {
     "name": "stdout",
     "output_type": "stream",
     "text": [
      "+-----------------+---------------------+\n",
      "| Intelligence    |   phi(Intelligence) |\n",
      "+=================+=====================+\n",
      "| Intelligence(0) |              0.8600 |\n",
      "+-----------------+---------------------+\n",
      "| Intelligence(1) |              0.1400 |\n",
      "+-----------------+---------------------+\n"
     ]
    }
   ],
   "source": [
    "print(inference_object.query(variables={\"Intelligence\":\"1\"},evidence={\"Letter\":\"0\"}))"
   ]
  },
  {
   "cell_type": "markdown",
   "id": "99080c35-fb50-4bff-8cdc-0d5c90bab559",
   "metadata": {},
   "source": [
    "4) Whats the probability that class has Intelligence $ i^{1} $ given that he has got letter $ l^0 $ and the grade $ g^{3} $\n",
    "\n",
    "\\begin{align}\n",
    "P_{\\mathcal{B}^{student}}(\\frac{i^{1}}{l^{0},g^{3}})\n",
    "\\end{align}"
   ]
  },
  {
   "cell_type": "code",
   "execution_count": 22,
   "id": "fa401a9c-121e-4042-a843-44b388e26f31",
   "metadata": {},
   "outputs": [
    {
     "name": "stdout",
     "output_type": "stream",
     "text": [
      "+-----------------+---------------------+\n",
      "| Intelligence    |   phi(Intelligence) |\n",
      "+=================+=====================+\n",
      "| Intelligence(0) |              0.9211 |\n",
      "+-----------------+---------------------+\n",
      "| Intelligence(1) |              0.0789 |\n",
      "+-----------------+---------------------+\n"
     ]
    }
   ],
   "source": [
    "print(inference_object.query(variables={\"Intelligence\":\"1\"},evidence={\"Letter\":\"0\", \"Grade\":\"3\"}))"
   ]
  },
  {
   "cell_type": "markdown",
   "id": "6b769b18-ac81-405f-aeb9-6849b0728727",
   "metadata": {},
   "source": [
    "### Intercausal Reasoning or explaining away"
   ]
  },
  {
   "cell_type": "markdown",
   "id": "3d098f57-e800-4019-8446-7a320ad321af",
   "metadata": {},
   "source": [
    "1) Whats the probability that class has Intelligence $ i^{1} $ given that he has the grade $ g^{3} $ and got a high SAT score $ s^{1} $\n",
    "\n",
    "\\begin{align}\n",
    "P_{\\mathcal{B}^{student}}(\\frac{i^{1}}{s^{1},g^{3}})\n",
    "\\end{align}"
   ]
  },
  {
   "cell_type": "code",
   "execution_count": 23,
   "id": "afff9d26-137c-49f1-a025-0b76be9e6260",
   "metadata": {},
   "outputs": [
    {
     "name": "stdout",
     "output_type": "stream",
     "text": [
      "+-----------------+---------------------+\n",
      "| Intelligence    |   phi(Intelligence) |\n",
      "+=================+=====================+\n",
      "| Intelligence(0) |              0.4217 |\n",
      "+-----------------+---------------------+\n",
      "| Intelligence(1) |              0.5783 |\n",
      "+-----------------+---------------------+\n"
     ]
    }
   ],
   "source": [
    "print(inference_object.query(variables={\"Intelligence\":\"1\"},evidence={\"SAT\":\"1\", \"Grade\":\"3\"}))"
   ]
  },
  {
   "cell_type": "markdown",
   "id": "e897857b-6f9b-4814-b15d-058c85c0234d",
   "metadata": {},
   "source": [
    "2) Whats the probability that class has Difficulty $ d^{1} $ given that he has the grade $ g^{3} $ and got a high SAT score $ s^{1} $\n",
    "\n",
    "\\begin{align}\n",
    "P_{\\mathcal{B}^{student}}(\\frac{d^{1}}{s^{1},g^{3}})\n",
    "\\end{align}"
   ]
  },
  {
   "cell_type": "code",
   "execution_count": 24,
   "id": "5884a086-fd52-441b-aa5c-180807f1e713",
   "metadata": {},
   "outputs": [
    {
     "name": "stdout",
     "output_type": "stream",
     "text": [
      "+---------------+-------------------+\n",
      "| Difficulty    |   phi(Difficulty) |\n",
      "+===============+===================+\n",
      "| Difficulty(0) |            0.2404 |\n",
      "+---------------+-------------------+\n",
      "| Difficulty(1) |            0.7596 |\n",
      "+---------------+-------------------+\n"
     ]
    }
   ],
   "source": [
    "print(inference_object.query(variables={\"Difficulty\":\"1\"},evidence={\"SAT\":\"1\", \"Grade\":\"3\"}))"
   ]
  },
  {
   "cell_type": "markdown",
   "id": "36bdb102-ee4f-47ee-9813-b597243f4381",
   "metadata": {},
   "source": [
    "3) Whats the probability that George has Intelligence $ i^{1} $ given that he has the grade $ g^{3} $ and the class is difficult $ d^{1} $\n",
    "\n",
    "\\begin{align}\n",
    "P_{\\mathcal{B}^{student}}(\\frac{i^{1}}{d^{1},g^{3}})\n",
    "\\end{align}"
   ]
  },
  {
   "cell_type": "code",
   "execution_count": 28,
   "id": "7ea6113c-1fef-490c-833a-fc98cb68bbb7",
   "metadata": {},
   "outputs": [
    {
     "name": "stdout",
     "output_type": "stream",
     "text": [
      "+-----------------+---------------------+\n",
      "| Intelligence    |   phi(Intelligence) |\n",
      "+=================+=====================+\n",
      "| Intelligence(0) |              0.8909 |\n",
      "+-----------------+---------------------+\n",
      "| Intelligence(1) |              0.1091 |\n",
      "+-----------------+---------------------+\n"
     ]
    }
   ],
   "source": [
    "print(inference_object.query(variables={\"Intelligence\":\"1\"},evidence={\"Difficulty\":\"1\", \"Grade\":\"3\"}))"
   ]
  },
  {
   "cell_type": "markdown",
   "id": "99ce3cdf-0515-4478-9bc6-cd3003da2efc",
   "metadata": {},
   "source": [
    "3) Whats the probability that George has Intelligence $ i^{1} $ given that he has the grade $ g^{2} $ and the class is difficult $ d^{1} $\n",
    "\n",
    "\\begin{align}\n",
    "P_{\\mathcal{B}^{student}}(\\frac{i^{1}}{d^{1},g^{2}})\n",
    "\\end{align}"
   ]
  },
  {
   "cell_type": "code",
   "execution_count": 29,
   "id": "cb214d3d-83f9-4319-9af0-52e9db464bf3",
   "metadata": {},
   "outputs": [
    {
     "name": "stdout",
     "output_type": "stream",
     "text": [
      "+-----------------+---------------------+\n",
      "| Intelligence    |   phi(Intelligence) |\n",
      "+=================+=====================+\n",
      "| Intelligence(0) |              0.6604 |\n",
      "+-----------------+---------------------+\n",
      "| Intelligence(1) |              0.3396 |\n",
      "+-----------------+---------------------+\n"
     ]
    }
   ],
   "source": [
    "print(inference_object.query(variables={\"Intelligence\":\"1\"},evidence={\"Difficulty\":\"1\", \"Grade\":\"2\"}))"
   ]
  },
  {
   "cell_type": "markdown",
   "id": "e8c98b74-fb43-4704-8ebf-b7c163320f5e",
   "metadata": {},
   "source": [
    "# References\n",
    "\n",
    "[1] Python library for Probabilistic Graphical Models pgmpy \"https://pgmpy.org/\"\n",
    "\n",
    "[2] Daphne Koller, Nir Friedman \"Probabilistic Graphical Models -Principles and Techniques\" MIT Press ISBN 978-0-262-01319-2"
   ]
  },
  {
   "cell_type": "code",
   "execution_count": null,
   "id": "1251c070-4708-4eb1-a258-69a73f6b6530",
   "metadata": {},
   "outputs": [],
   "source": []
  }
 ],
 "metadata": {
  "kernelspec": {
   "display_name": "Python 3 (ipykernel)",
   "language": "python",
   "name": "python3"
  },
  "language_info": {
   "codemirror_mode": {
    "name": "ipython",
    "version": 3
   },
   "file_extension": ".py",
   "mimetype": "text/x-python",
   "name": "python",
   "nbconvert_exporter": "python",
   "pygments_lexer": "ipython3",
   "version": "3.10.4"
  }
 },
 "nbformat": 4,
 "nbformat_minor": 5
}
